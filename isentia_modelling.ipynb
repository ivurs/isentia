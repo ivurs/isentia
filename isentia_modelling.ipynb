{
 "cells": [
  {
   "cell_type": "code",
   "execution_count": 594,
   "metadata": {},
   "outputs": [
    {
     "name": "stderr",
     "output_type": "stream",
     "text": [
      "[nltk_data] Downloading package punkt to /Users/mz/nltk_data...\n",
      "[nltk_data]   Package punkt is already up-to-date!\n",
      "[nltk_data] Downloading package wordnet to /Users/mz/nltk_data...\n",
      "[nltk_data]   Package wordnet is already up-to-date!\n"
     ]
    }
   ],
   "source": [
    "import pandas as pd\n",
    "import numpy as np\n",
    "import re\n",
    "import nltk\n",
    "from nltk import word_tokenize, pos_tag\n",
    "from nltk.corpus import wordnet\n",
    "nltk.download('punkt')\n",
    "nltk.download('wordnet')\n",
    "from nltk.corpus import stopwords\n",
    "from nltk.stem.wordnet import WordNetLemmatizer\n",
    "import string\n",
    "from gensim import models\n",
    "from gensim.models import CoherenceModel\n",
    "from gensim import corpora\n",
    "import random\n",
    "from gensim.models import Word2Vec\n",
    "from gensim.models import word2vec\n",
    "import numpy as np\n",
    "from scipy.spatial.distance import cdist\n",
    "from sklearn.datasets import load_iris\n",
    "from sklearn.cluster import KMeans\n",
    "import matplotlib.pyplot as plt"
   ]
  },
  {
   "cell_type": "markdown",
   "metadata": {},
   "source": [
    "## 0-Data preprocessing"
   ]
  },
  {
   "cell_type": "code",
   "execution_count": 595,
   "metadata": {},
   "outputs": [],
   "source": [
    "# 1.load sample dataset\n",
    "train_df_sample = pd.read_csv('train_df_sample.csv').iloc[:,1:]\n",
    "test_df_sample = pd.read_csv('test_df_sample.csv').iloc[:,1:]"
   ]
  },
  {
   "cell_type": "code",
   "execution_count": 596,
   "metadata": {},
   "outputs": [
    {
     "data": {
      "text/html": [
       "<div>\n",
       "<style scoped>\n",
       "    .dataframe tbody tr th:only-of-type {\n",
       "        vertical-align: middle;\n",
       "    }\n",
       "\n",
       "    .dataframe tbody tr th {\n",
       "        vertical-align: top;\n",
       "    }\n",
       "\n",
       "    .dataframe thead th {\n",
       "        text-align: right;\n",
       "    }\n",
       "</style>\n",
       "<table border=\"1\" class=\"dataframe\">\n",
       "  <thead>\n",
       "    <tr style=\"text-align: right;\">\n",
       "      <th></th>\n",
       "      <th>content</th>\n",
       "      <th>label</th>\n",
       "    </tr>\n",
       "  </thead>\n",
       "  <tbody>\n",
       "    <tr>\n",
       "      <th>0</th>\n",
       "      <td>JUDGE Judy Sheindlin, one of television’s bigg...</td>\n",
       "      <td>Media&amp;Publications</td>\n",
       "    </tr>\n",
       "    <tr>\n",
       "      <th>1</th>\n",
       "      <td>Overview Calls to the Metropolitan Police abou...</td>\n",
       "      <td>Pharmaceutical</td>\n",
       "    </tr>\n",
       "  </tbody>\n",
       "</table>\n",
       "</div>"
      ],
      "text/plain": [
       "                                             content               label\n",
       "0  JUDGE Judy Sheindlin, one of television’s bigg...  Media&Publications\n",
       "1  Overview Calls to the Metropolitan Police abou...      Pharmaceutical"
      ]
     },
     "execution_count": 596,
     "metadata": {},
     "output_type": "execute_result"
    }
   ],
   "source": [
    "train_df_sample.head(2)"
   ]
  },
  {
   "cell_type": "code",
   "execution_count": null,
   "metadata": {},
   "outputs": [],
   "source": [
    "# 2. content text clean : tokenize, keep strings only, remove stop words and Lemmatization\n",
    "\n",
    "# get POS\n",
    "def get_wordnet_pos(tag):\n",
    "    if tag.startswith('J'):\n",
    "        return wordnet.ADJ\n",
    "    elif tag.startswith('V'):\n",
    "        return wordnet.VERB\n",
    "    elif tag.startswith('N'):\n",
    "        return wordnet.NOUN\n",
    "    elif tag.startswith('R'):\n",
    "        return wordnet.ADV\n",
    "    else:\n",
    "        return None\n",
    "\n",
    "def clean_content(row):\n",
    "    # keep strings only\n",
    "    cur_str = re.sub(r\"[^A-Za-z ]\", \" \", row['content'])\n",
    "    # tokenize\n",
    "    cur_token = nltk.word_tokenize(cur_str)\n",
    "    # remove stop words\n",
    "    cur_token = [s.lower().strip() for s in cur_token if s.lower().strip() not in stopwords.words('english')]\n",
    "    # get pos tag\n",
    "    tagged_token = pos_tag(cur_token)     \n",
    "\n",
    "    wnl = WordNetLemmatizer()\n",
    "    lemmas_sent = []\n",
    "    for tag in tagged_token:\n",
    "        wordnet_pos = get_wordnet_pos(tag[1]) or wordnet.NOUN\n",
    "        # lemmatization\n",
    "        lemmas_sent.append(wnl.lemmatize(tag[0], pos=wordnet_pos)) \n",
    "    \n",
    "    return lemmas_sent"
   ]
  },
  {
   "cell_type": "code",
   "execution_count": null,
   "metadata": {},
   "outputs": [
    {
     "data": {
      "text/plain": [
       "225"
      ]
     },
     "execution_count": 598,
     "metadata": {},
     "output_type": "execute_result"
    }
   ],
   "source": [
    "len(train_df_sample.iloc[:1].apply(lambda row : clean_content(row), axis = 1).iloc[0])"
   ]
  },
  {
   "cell_type": "code",
   "execution_count": null,
   "metadata": {},
   "outputs": [],
   "source": [
    "train_df_sample['content_clean'] = train_df_sample.apply(lambda row : clean_content(row), axis = 1)\n",
    "test_df_sample['content_clean'] = test_df_sample.apply(lambda row : clean_content(row), axis = 1)"
   ]
  },
  {
   "cell_type": "code",
   "execution_count": 64,
   "metadata": {},
   "outputs": [],
   "source": [
    "#train_df_sample.to_csv('train_df_sample_clean.csv')\n",
    "#test_df_sample.to_csv('test_df_sample_clean.csv')"
   ]
  },
  {
   "cell_type": "code",
   "execution_count": 592,
   "metadata": {},
   "outputs": [],
   "source": [
    "#train_df_sample.to_pickle('train_df_sample_clean.pkl')\n",
    "#test_df_sample.to_pickle('test_df_sample_clean.pkl')"
   ]
  },
  {
   "cell_type": "code",
   "execution_count": 593,
   "metadata": {},
   "outputs": [
    {
     "data": {
      "text/html": [
       "<div>\n",
       "<style scoped>\n",
       "    .dataframe tbody tr th:only-of-type {\n",
       "        vertical-align: middle;\n",
       "    }\n",
       "\n",
       "    .dataframe tbody tr th {\n",
       "        vertical-align: top;\n",
       "    }\n",
       "\n",
       "    .dataframe thead th {\n",
       "        text-align: right;\n",
       "    }\n",
       "</style>\n",
       "<table border=\"1\" class=\"dataframe\">\n",
       "  <thead>\n",
       "    <tr style=\"text-align: right;\">\n",
       "      <th></th>\n",
       "      <th>content</th>\n",
       "      <th>label</th>\n",
       "    </tr>\n",
       "  </thead>\n",
       "  <tbody>\n",
       "    <tr>\n",
       "      <th>0</th>\n",
       "      <td>JUDGE Judy Sheindlin, one of television’s bigg...</td>\n",
       "      <td>Media&amp;Publications</td>\n",
       "    </tr>\n",
       "    <tr>\n",
       "      <th>1</th>\n",
       "      <td>Overview Calls to the Metropolitan Police abou...</td>\n",
       "      <td>Pharmaceutical</td>\n",
       "    </tr>\n",
       "  </tbody>\n",
       "</table>\n",
       "</div>"
      ],
      "text/plain": [
       "                                             content               label\n",
       "0  JUDGE Judy Sheindlin, one of television’s bigg...  Media&Publications\n",
       "1  Overview Calls to the Metropolitan Police abou...      Pharmaceutical"
      ]
     },
     "execution_count": 593,
     "metadata": {},
     "output_type": "execute_result"
    }
   ],
   "source": [
    "train_df_sample.head(2)"
   ]
  },
  {
   "cell_type": "markdown",
   "metadata": {},
   "source": [
    "## 1- Topic model : LDA"
   ]
  },
  {
   "cell_type": "code",
   "execution_count": 65,
   "metadata": {},
   "outputs": [],
   "source": [
    "# traning corpus\n",
    "train_content_clean  = train_df_sample['content_clean'].tolist()"
   ]
  },
  {
   "cell_type": "code",
   "execution_count": 70,
   "metadata": {},
   "outputs": [],
   "source": [
    "# test corpus\n",
    "test_content_clean  = test_df_sample['content_clean'].tolist()"
   ]
  },
  {
   "cell_type": "markdown",
   "metadata": {},
   "source": [
    "### 1.1 try to find a reasonable topic number"
   ]
  },
  {
   "cell_type": "code",
   "execution_count": 291,
   "metadata": {},
   "outputs": [],
   "source": [
    "# sample still too large, so just choose 500 from them to determine the topic number\n",
    "num_top_sample = random.sample(train_content_clean, 500)\n",
    "dictionary = corpora.Dictionary(num_top_sample)\n",
    "dictionary.filter_extremes(no_below=20, no_above=0.5)\n",
    "doc_term_matrix = [dictionary.doc2bow(doc) for doc in num_top_sample]\n",
    "Lda = models.ldamodel.LdaModel\n",
    "np.random.seed(1)"
   ]
  },
  {
   "cell_type": "code",
   "execution_count": 292,
   "metadata": {},
   "outputs": [],
   "source": [
    "num_tps = list(range(5,55,5))"
   ]
  },
  {
   "cell_type": "code",
   "execution_count": 293,
   "metadata": {},
   "outputs": [],
   "source": [
    "#ldamodel = Lda(doc_term_matrix, num_topics=25, id2word = dictionary, passes=10)"
   ]
  },
  {
   "cell_type": "code",
   "execution_count": 294,
   "metadata": {},
   "outputs": [],
   "source": [
    "#ldamodel.log_perplexity(doc_term_matrix)"
   ]
  },
  {
   "cell_type": "code",
   "execution_count": 295,
   "metadata": {},
   "outputs": [],
   "source": [
    "#goodcm = CoherenceModel(model=ldamodel, corpus= doc_term_matrix, dictionary=dictionary, coherence='u_mass')"
   ]
  },
  {
   "cell_type": "code",
   "execution_count": 296,
   "metadata": {},
   "outputs": [],
   "source": [
    "#goodcm.get_coherence()"
   ]
  },
  {
   "cell_type": "code",
   "execution_count": 297,
   "metadata": {},
   "outputs": [],
   "source": [
    "def plot_coherence(ls):\n",
    "    scores = []\n",
    "    for nt in num_tps:\n",
    "        ldamodel = Lda(doc_term_matrix, num_topics=nt, id2word = dictionary, passes=10)\n",
    "        coherence = CoherenceModel(model=ldamodel, corpus= doc_term_matrix, dictionary=dictionary, coherence='u_mass')\n",
    "        perplexity = ldamodel.log_perplexity(doc_term_matrix)\n",
    "        scores.append([nt,coherence.get_coherence(), perplexity])\n",
    "    sc_df = pd.DataFrame(np.array(scores), columns = ['topic_num', 'coherence_score','perplexity'])\n",
    "    print(sc_df)\n",
    "    sc_df[['topic_num', 'coherence_score']].plot.line(x='topic_num', y='coherence_score')\n",
    "    sc_df[['topic_num', 'perplexity']].plot.line(x='topic_num', y='perplexity')"
   ]
  },
  {
   "cell_type": "code",
   "execution_count": 298,
   "metadata": {},
   "outputs": [
    {
     "name": "stdout",
     "output_type": "stream",
     "text": [
      "   topic_num  coherence_score  perplexity\n",
      "0        5.0        -1.164998   -6.647812\n",
      "1       10.0        -1.378223   -6.671925\n",
      "2       15.0        -1.352311   -6.728995\n",
      "3       20.0        -1.518751   -6.802583\n",
      "4       25.0        -1.454035   -6.818655\n",
      "5       30.0        -1.536927   -6.844054\n",
      "6       35.0        -1.544094   -6.910002\n",
      "7       40.0        -1.571747   -6.919363\n",
      "8       45.0        -1.462041   -6.976564\n",
      "9       50.0        -1.566889   -7.014907\n"
     ]
    },
    {
     "data": {
      "image/png": "[encoded data removed]",
      "text/plain": [
       "<Figure size 432x288 with 1 Axes>"
      ]
     },
     "metadata": {
      "needs_background": "light"
     },
     "output_type": "display_data"
    },
    {
     "data": {
      "image/png": "[encoded data removed]",
      "text/plain": [
       "<Figure size 432x288 with 1 Axes>"
      ]
     },
     "metadata": {
      "needs_background": "light"
     },
     "output_type": "display_data"
    }
   ],
   "source": [
    "plot_coherence(num_tps)"
   ]
  },
  {
   "cell_type": "markdown",
   "metadata": {},
   "source": [
    "### 1.2 use the num of topic was determined in 1.1 to train model"
   ]
  },
  {
   "cell_type": "code",
   "execution_count": 499,
   "metadata": {},
   "outputs": [],
   "source": [
    "# build dictionary\n",
    "dictionary = corpora.Dictionary(train_content_clean)\n",
    "dictionary.filter_extremes(no_below=20, no_above=0.5)\n",
    "doc_term_matrix_train = [dictionary.doc2bow(doc) for doc in train_content_clean]\n",
    "Lda = models.ldamodel.LdaModel\n",
    "np.random.seed(1)\n",
    "ldamodel = Lda(doc_term_matrix, num_topics=15, id2word = dictionary, passes=10)"
   ]
  },
  {
   "cell_type": "code",
   "execution_count": 500,
   "metadata": {},
   "outputs": [],
   "source": [
    "coherence_train = CoherenceModel(model=ldamodel, corpus= doc_term_matrix_train, dictionary=dictionary, coherence='u_mass')\n",
    "perplexity_train = ldamodel.log_perplexity(doc_term_matrix_train)"
   ]
  },
  {
   "cell_type": "code",
   "execution_count": 501,
   "metadata": {},
   "outputs": [
    {
     "name": "stdout",
     "output_type": "stream",
     "text": [
      "train set coherence score: -3.371643  train set perplexity score : -17.343138\n"
     ]
    }
   ],
   "source": [
    "print('train set coherence score: %2f  train set perplexity score : %2f'% (coherence_train.get_coherence(), perplexity_train))"
   ]
  },
  {
   "cell_type": "code",
   "execution_count": 502,
   "metadata": {},
   "outputs": [],
   "source": [
    "doc_term_matrix_test = [dictionary.doc2bow(doc) for doc in test_content_clean]\n",
    "coherence_test = CoherenceModel(model=ldamodel, corpus= doc_term_matrix_test, dictionary=dictionary, coherence='u_mass')\n",
    "perplexity_test = ldamodel.log_perplexity(doc_term_matrix_test)"
   ]
  },
  {
   "cell_type": "code",
   "execution_count": 503,
   "metadata": {},
   "outputs": [
    {
     "name": "stdout",
     "output_type": "stream",
     "text": [
      "test set coherence score: -4.326310  test set perplexity score : -17.386724\n"
     ]
    }
   ],
   "source": [
    "print('test set coherence score: %2f  test set perplexity score : %2f'% (coherence_test.get_coherence(), perplexity_test)) "
   ]
  },
  {
   "cell_type": "code",
   "execution_count": 505,
   "metadata": {},
   "outputs": [
    {
     "name": "stdout",
     "output_type": "stream",
     "text": [
      "[(0, '0.021*\"base\" + 0.014*\"cancer\" + 0.013*\"summary\" + 0.012*\"good\" + 0.011*\"rise\" + 0.007*\"canadian\" + 0.007*\"health\" + 0.007*\"effect\" + 0.006*\"number\" + 0.006*\"insurance\" + 0.006*\"organization\" + 0.005*\"dual\" + 0.005*\"yet\" + 0.005*\"equates\" + 0.005*\"day\"'), (1, '0.031*\"child\" + 0.025*\"publication\" + 0.022*\"richard\" + 0.020*\"fair\" + 0.013*\"could\" + 0.006*\"growth\" + 0.006*\"conclude\" + 0.006*\"apparent\" + 0.005*\"mini\" + 0.005*\"answer\" + 0.005*\"gadget\" + 0.005*\"archive\" + 0.004*\"factor\" + 0.004*\"hong\" + 0.004*\"beginning\"'), (2, '0.011*\"campaigner\" + 0.011*\"health\" + 0.010*\"britain\" + 0.008*\"cent\" + 0.007*\"freeze\" + 0.007*\"fifteen\" + 0.007*\"leave\" + 0.007*\"number\" + 0.007*\"proper\" + 0.007*\"voter\" + 0.006*\"good\" + 0.006*\"single\" + 0.006*\"facing\" + 0.006*\"frustrate\" + 0.005*\"name\"'), (3, '0.001*\"develop\" + 0.001*\"useful\" + 0.001*\"pharma\" + 0.001*\"base\" + 0.001*\"authenticity\" + 0.001*\"inflation\" + 0.001*\"increase\" + 0.001*\"noon\" + 0.000*\"wake\" + 0.000*\"number\" + 0.000*\"decade\" + 0.000*\"health\" + 0.000*\"encourage\" + 0.000*\"africa\" + 0.000*\"rise\"'), (4, '0.020*\"ethan\" + 0.016*\"international\" + 0.013*\"look\" + 0.011*\"public\" + 0.008*\"base\" + 0.008*\"pharma\" + 0.008*\"co\" + 0.007*\"forty\" + 0.007*\"case\" + 0.007*\"across\" + 0.007*\"number\" + 0.007*\"day\" + 0.007*\"news\" + 0.006*\"factor\" + 0.006*\"britain\"'), (5, '0.025*\"rate\" + 0.013*\"mainly\" + 0.012*\"fund\" + 0.011*\"recruit\" + 0.011*\"second\" + 0.011*\"clean\" + 0.009*\"original\" + 0.008*\"roughly\" + 0.008*\"celebrity\" + 0.007*\"diabetes\" + 0.007*\"freeze\" + 0.006*\"receive\" + 0.006*\"grow\" + 0.006*\"employ\" + 0.005*\"health\"'), (6, '0.042*\"dan\" + 0.021*\"believe\" + 0.020*\"watch\" + 0.010*\"educational\" + 0.010*\"reprieve\" + 0.009*\"originally\" + 0.007*\"across\" + 0.007*\"hong\" + 0.007*\"archive\" + 0.006*\"mr\" + 0.005*\"develop\" + 0.005*\"decade\" + 0.005*\"mid\" + 0.005*\"double\" + 0.005*\"cancer\"'), (7, '0.021*\"son\" + 0.014*\"specific\" + 0.013*\"dynamic\" + 0.013*\"staff\" + 0.012*\"proper\" + 0.010*\"develop\" + 0.010*\"even\" + 0.009*\"percent\" + 0.009*\"require\" + 0.009*\"conference\" + 0.009*\"neil\" + 0.008*\"antibiotic\" + 0.008*\"way\" + 0.007*\"citizenship\" + 0.007*\"wake\"'), (8, '0.014*\"opportunity\" + 0.014*\"official\" + 0.012*\"chronic\" + 0.012*\"level\" + 0.009*\"insurance\" + 0.009*\"industry\" + 0.009*\"power\" + 0.007*\"decade\" + 0.007*\"entire\" + 0.007*\"online\" + 0.007*\"mainly\" + 0.007*\"base\" + 0.006*\"desperate\" + 0.006*\"sector\" + 0.006*\"thirteen\"'), (9, '0.023*\"drink\" + 0.020*\"heart\" + 0.016*\"bill\" + 0.012*\"current\" + 0.009*\"several\" + 0.009*\"discovery\" + 0.009*\"clean\" + 0.008*\"commander\" + 0.008*\"pot\" + 0.007*\"chef\" + 0.007*\"telegraph\" + 0.007*\"economic\" + 0.007*\"rice\" + 0.005*\"b\" + 0.005*\"face\"'), (10, '0.010*\"time\" + 0.009*\"desperate\" + 0.008*\"expect\" + 0.008*\"factor\" + 0.007*\"voter\" + 0.007*\"good\" + 0.006*\"health\" + 0.006*\"announce\" + 0.006*\"sleep\" + 0.006*\"operator\" + 0.006*\"worth\" + 0.006*\"din\" + 0.005*\"frustrate\" + 0.005*\"rise\" + 0.005*\"senate\"'), (11, '0.011*\"name\" + 0.010*\"base\" + 0.010*\"slight\" + 0.008*\"thirteen\" + 0.006*\"management\" + 0.005*\"answer\" + 0.005*\"appear\" + 0.005*\"encourage\" + 0.004*\"big\" + 0.004*\"morocco\" + 0.004*\"cent\" + 0.003*\"unveiled\" + 0.003*\"alexander\" + 0.003*\"reduce\" + 0.003*\"reprieve\"'), (12, '0.040*\"commander\" + 0.011*\"familiar\" + 0.011*\"rise\" + 0.010*\"score\" + 0.008*\"face\" + 0.008*\"component\" + 0.007*\"huge\" + 0.007*\"number\" + 0.007*\"cancer\" + 0.007*\"appear\" + 0.006*\"insurance\" + 0.006*\"sell\" + 0.005*\"another\" + 0.005*\"discovery\" + 0.005*\"likely\"'), (13, '0.012*\"humane\" + 0.011*\"trumpet\" + 0.010*\"draw\" + 0.010*\"across\" + 0.010*\"sale\" + 0.009*\"huge\" + 0.009*\"role\" + 0.008*\"dew\" + 0.008*\"commander\" + 0.007*\"pause\" + 0.007*\"drink\" + 0.007*\"call\" + 0.007*\"base\" + 0.007*\"reach\" + 0.006*\"good\"'), (14, '0.032*\"underway\" + 0.016*\"huge\" + 0.013*\"strain\" + 0.011*\"failing\" + 0.011*\"act\" + 0.010*\"bridge\" + 0.010*\"appear\" + 0.009*\"promotion\" + 0.009*\"bracket\" + 0.009*\"original\" + 0.008*\"pension\" + 0.007*\"look\" + 0.007*\"extension\" + 0.007*\"well\" + 0.007*\"rise\"')]\n"
     ]
    }
   ],
   "source": [
    "print(ldamodel.print_topics(num_topics=15, num_words=15))"
   ]
  },
  {
   "cell_type": "markdown",
   "metadata": {},
   "source": [
    "### 1.3 prediction on test"
   ]
  },
  {
   "cell_type": "code",
   "execution_count": 581,
   "metadata": {},
   "outputs": [
    {
     "data": {
      "text/plain": [
       "[(0, 0.37932158), (2, 0.20102783), (4, 0.08902235), (8, 0.3215738)]"
      ]
     },
     "execution_count": 581,
     "metadata": {},
     "output_type": "execute_result"
    }
   ],
   "source": [
    "# just given one example as we can use this to predict all test set\n",
    "ldamodel.get_document_topics(doc_term_matrix_test[0])"
   ]
  },
  {
   "cell_type": "markdown",
   "metadata": {},
   "source": [
    "## 2 - Word2Vec + K-means "
   ]
  },
  {
   "cell_type": "code",
   "execution_count": 467,
   "metadata": {},
   "outputs": [
    {
     "data": {
      "text/plain": [
       "(23280, 5)"
      ]
     },
     "execution_count": 467,
     "metadata": {},
     "output_type": "execute_result"
    }
   ],
   "source": [
    "train_df_sample.shape"
   ]
  },
  {
   "cell_type": "code",
   "execution_count": 468,
   "metadata": {},
   "outputs": [],
   "source": [
    "train_data = train_df_sample['content_clean'].tolist()\n",
    "test_data = test_df_sample['content_clean'].tolist()"
   ]
  },
  {
   "cell_type": "code",
   "execution_count": 469,
   "metadata": {},
   "outputs": [],
   "source": [
    "# traing word2vec model\n",
    "train_w2v = Word2Vec(train_data, min_count=5, size=500, window=25, workers=4)"
   ]
  },
  {
   "cell_type": "code",
   "execution_count": 470,
   "metadata": {},
   "outputs": [],
   "source": [
    "# get document vector representation by avergae on each words belongs to it\n",
    "def get_doc_avg_vec(row):\n",
    "    vec = np.zeros(500)\n",
    "    count = 1\n",
    "    for word in row['content_clean']:\n",
    "        try:\n",
    "            vec += train_w2v[word]\n",
    "            count+=1\n",
    "            #print(count)\n",
    "        except:\n",
    "            pass\n",
    "    return vec/count"
   ]
  },
  {
   "cell_type": "code",
   "execution_count": 471,
   "metadata": {},
   "outputs": [
    {
     "name": "stderr",
     "output_type": "stream",
     "text": [
      "/Users/mz/anaconda3/lib/python3.7/site-packages/ipykernel_launcher.py:6: DeprecationWarning: Call to deprecated `__getitem__` (Method will be removed in 4.0.0, use self.wv.__getitem__() instead).\n",
      "  \n"
     ]
    }
   ],
   "source": [
    "train_df_sample['content_clean_w2v'] = train_df_sample.apply(lambda row : get_doc_avg_vec(row), axis = 1)"
   ]
  },
  {
   "cell_type": "code",
   "execution_count": 472,
   "metadata": {},
   "outputs": [
    {
     "name": "stderr",
     "output_type": "stream",
     "text": [
      "/Users/mz/anaconda3/lib/python3.7/site-packages/ipykernel_launcher.py:6: DeprecationWarning: Call to deprecated `__getitem__` (Method will be removed in 4.0.0, use self.wv.__getitem__() instead).\n",
      "  \n"
     ]
    }
   ],
   "source": [
    "test_df_sample['content_clean_w2v'] = test_df_sample.apply(lambda row : get_doc_avg_vec(row), axis = 1)"
   ]
  },
  {
   "cell_type": "code",
   "execution_count": 473,
   "metadata": {},
   "outputs": [
    {
     "data": {
      "text/html": [
       "<div>\n",
       "<style scoped>\n",
       "    .dataframe tbody tr th:only-of-type {\n",
       "        vertical-align: middle;\n",
       "    }\n",
       "\n",
       "    .dataframe tbody tr th {\n",
       "        vertical-align: top;\n",
       "    }\n",
       "\n",
       "    .dataframe thead th {\n",
       "        text-align: right;\n",
       "    }\n",
       "</style>\n",
       "<table border=\"1\" class=\"dataframe\">\n",
       "  <thead>\n",
       "    <tr style=\"text-align: right;\">\n",
       "      <th></th>\n",
       "      <th>raw_content</th>\n",
       "      <th>content</th>\n",
       "      <th>label</th>\n",
       "      <th>content_clean</th>\n",
       "      <th>content_clean_w2v</th>\n",
       "    </tr>\n",
       "  </thead>\n",
       "  <tbody>\n",
       "    <tr>\n",
       "      <th>0</th>\n",
       "      <td>JUDGE Judy Sheindlin, one of television’s big...</td>\n",
       "      <td>JUDGE Judy Sheindlin, one of television’s bigg...</td>\n",
       "      <td>Media&amp;Publications</td>\n",
       "      <td>[judge, judy, sheindlin, one, television, big,...</td>\n",
       "      <td>[0.18067191459910234, 0.14731993270724747, 0.3...</td>\n",
       "    </tr>\n",
       "    <tr>\n",
       "      <th>1</th>\n",
       "      <td>Overview Calls to the Metropolitan Police abo...</td>\n",
       "      <td>Overview Calls to the Metropolitan Police abou...</td>\n",
       "      <td>Pharmaceutical</td>\n",
       "      <td>[overview, call, metropolitan, police, mental,...</td>\n",
       "      <td>[0.27423277886334657, -0.09801484441295576, 0....</td>\n",
       "    </tr>\n",
       "  </tbody>\n",
       "</table>\n",
       "</div>"
      ],
      "text/plain": [
       "                                         raw_content  \\\n",
       "0   JUDGE Judy Sheindlin, one of television’s big...   \n",
       "1   Overview Calls to the Metropolitan Police abo...   \n",
       "\n",
       "                                             content               label  \\\n",
       "0  JUDGE Judy Sheindlin, one of television’s bigg...  Media&Publications   \n",
       "1  Overview Calls to the Metropolitan Police abou...      Pharmaceutical   \n",
       "\n",
       "                                       content_clean  \\\n",
       "0  [judge, judy, sheindlin, one, television, big,...   \n",
       "1  [overview, call, metropolitan, police, mental,...   \n",
       "\n",
       "                                   content_clean_w2v  \n",
       "0  [0.18067191459910234, 0.14731993270724747, 0.3...  \n",
       "1  [0.27423277886334657, -0.09801484441295576, 0....  "
      ]
     },
     "execution_count": 473,
     "metadata": {},
     "output_type": "execute_result"
    }
   ],
   "source": [
    "train_df_sample.head(2)"
   ]
  },
  {
   "cell_type": "code",
   "execution_count": 475,
   "metadata": {},
   "outputs": [],
   "source": [
    "X = np.array(train_df_sample['content_clean_w2v'].tolist())"
   ]
  },
  {
   "cell_type": "code",
   "execution_count": 478,
   "metadata": {},
   "outputs": [
    {
     "name": "stdout",
     "output_type": "stream",
     "text": [
      "   num_clusters            SSE\n",
      "0           5.0  537793.400110\n",
      "1          10.0  472933.624912\n",
      "2          15.0  433312.491005\n",
      "3          20.0  409447.173952\n",
      "4          25.0  391208.753750\n",
      "5          30.0  377425.810179\n",
      "6          35.0  366567.865012\n",
      "7          40.0  357522.621233\n",
      "8          45.0  349554.870251\n",
      "9          50.0  342355.848923\n"
     ]
    },
    {
     "data": {
      "text/plain": [
       "<matplotlib.axes._subplots.AxesSubplot at 0x7fe73c37b0f0>"
      ]
     },
     "execution_count": 478,
     "metadata": {},
     "output_type": "execute_result"
    },
    {
     "data": {
      "image/png": "[encoded data removed]",
      "text/plain": [
       "<Figure size 432x288 with 1 Axes>"
      ]
     },
     "metadata": {
      "needs_background": "light"
     },
     "output_type": "display_data"
    }
   ],
   "source": [
    "res = []\n",
    "n_cluster = list(range(5,55,5))\n",
    "for n in n_cluster:\n",
    "    kmeans = KMeans(n_clusters=n)\n",
    "    kmeans.fit(X)\n",
    "    #res.append()#euclidean\n",
    "    res.append([n, kmeans.inertia_])\n",
    "'''\n",
    "plt.plot(n_cluster, res)\n",
    "plt.title('elbow curve')\n",
    "plt.show()\n",
    "\n",
    "plt.figure()\n",
    "plt.plot(list(sse.keys()), list(sse.values()))\n",
    "plt.xlabel(\"Number of cluster\")\n",
    "plt.ylabel(\"SSE\")\n",
    "plt.show()\n",
    "'''\n",
    "res_df = pd.DataFrame(np.array(res), columns = ['num_clusters', 'SSE'])\n",
    "print(res_df)\n",
    "res_df[['num_clusters', 'SSE']].plot.line(x='num_clusters', y='SSE')"
   ]
  },
  {
   "cell_type": "code",
   "execution_count": 506,
   "metadata": {},
   "outputs": [],
   "source": [
    "# choose 15 as number of clusters\n",
    "kmeans_model = KMeans(n_clusters=15).fit(X)"
   ]
  },
  {
   "cell_type": "code",
   "execution_count": 566,
   "metadata": {},
   "outputs": [],
   "source": [
    "# top 15 centre words of each clusters\n",
    "center_words_15 = []"
   ]
  },
  {
   "cell_type": "code",
   "execution_count": 567,
   "metadata": {},
   "outputs": [],
   "source": [
    "# map keywords by its index in word2vec model\n",
    "w2v_dict = {}\n",
    "for k,v in enumerate(train_w2v.wv.index2word):\n",
    "    w2v_dict[k] = v"
   ]
  },
  {
   "cell_type": "code",
   "execution_count": 568,
   "metadata": {},
   "outputs": [],
   "source": [
    "# look up top 15 weighted keywords in each cluster\n",
    "for cls in kmeans_model.cluster_centers_:\n",
    "    idx = list(cls.argsort()[::-1][:15])\n",
    "    idx2wd = [w2v_dict[i] for i in idx]\n",
    "    center_words_15.append(idx2wd)"
   ]
  },
  {
   "cell_type": "code",
   "execution_count": 570,
   "metadata": {
    "scrolled": false
   },
   "outputs": [
    {
     "data": {
      "text/plain": [
       "array([['average', 'fire', 'company', 'way', 'capital', 'energy',\n",
       "        'final', 'state', 'economic', 'raise', 'region', 'country',\n",
       "        'control', 'sydney', 'national'],\n",
       "       ['target', 'service', 'total', 'need', 'au', 'come', 'focus',\n",
       "        'mr', 'law', 'different', 'manager', 'million', 'melbourne',\n",
       "        'police', 'site'],\n",
       "       ['life', 'average', 'capital', 'world', 'final', 'together',\n",
       "        'change', 'national', 'investor', 'form', 'state', 'far',\n",
       "        'country', 'list', 'melbourne'],\n",
       "       ['back', 'demand', 'local', 'station', 'way', 'raise', 'company',\n",
       "        'state', 'away', 'know', 'base', 'student', 'appear', 'whether',\n",
       "        'key'],\n",
       "       ['key', 'low', 'tell', 'leader', 'review', 'call', 'plan', 'area',\n",
       "        'driver', 'online', 'position', 'queensland', 'woman',\n",
       "        'saturday', 'station'],\n",
       "       ['way', 'fire', 'target', 'come', 'focus', 'late', 'join',\n",
       "        'capital', 'may', 'offer', 'company', 'base', 'melbourne',\n",
       "        'power', 'operation'],\n",
       "       ['melbourne', 'back', 'need', 'police', 'law', 'station',\n",
       "        'target', 'local', 'different', 'low', 'appear', 'away',\n",
       "        'president', 'come', 'site'],\n",
       "       ['region', 'state', 'law', 'back', 'expect', 'demand', 'patient',\n",
       "        'company', 'raise', 'provide', 'station', 'lot', 'stock',\n",
       "        'electricity', 'system'],\n",
       "       ['back', 'expect', 'course', 'way', 'law', 'night', 'together',\n",
       "        'farm', 'station', 'company', 'demand', 'close', 'local',\n",
       "        'melbourne', 'data'],\n",
       "       ['need', 'melbourne', 'behind', 'list', 'back', 'come',\n",
       "        'industry', 'demand', 'patient', 'law', 'manage', 'whether',\n",
       "        'away', 'however', 'view'],\n",
       "       ['state', 'national', 'form', 'way', 'thursday', 'law', 'come',\n",
       "        'world', 'stock', 'site', 'data', 'raise', 'total', 'victoria',\n",
       "        'control'],\n",
       "       ['average', 'far', 'capital', 'state', 'final', 'may', 'police',\n",
       "        'world', 'energy', 'long', 'list', 'company', 'stock', 'come',\n",
       "        'region'],\n",
       "       ['region', 'state', 'average', 'management', 'list', 'life',\n",
       "        'long', 'capital', 'thursday', 'design', 'may', 'end', 'head',\n",
       "        'investor', 'decision'],\n",
       "       ['world', 'state', 'cover', 'school', 'far', 'need', 'demand',\n",
       "        'target', 'melbourne', 'provide', 'company', 'mr', 'west',\n",
       "        'away', 'operation'],\n",
       "       ['early', 'key', 'different', 'system', 'law', 'list', 'th',\n",
       "        'sydney', 'come', 'president', 'night', 'local', 'get', 'way',\n",
       "        'sale']], dtype='<U11')"
      ]
     },
     "execution_count": 570,
     "metadata": {},
     "output_type": "execute_result"
    }
   ],
   "source": [
    "# print centre words for each clusters\n",
    "np.array(center_words_15)"
   ]
  },
  {
   "cell_type": "code",
   "execution_count": 583,
   "metadata": {},
   "outputs": [
    {
     "data": {
      "text/plain": [
       "(5821,)"
      ]
     },
     "execution_count": 583,
     "metadata": {},
     "output_type": "execute_result"
    }
   ],
   "source": [
    "# testset\n",
    "X_test = np.array(test_df_sample['content_clean_w2v'].tolist())"
   ]
  },
  {
   "cell_type": "code",
   "execution_count": 585,
   "metadata": {},
   "outputs": [
    {
     "data": {
      "text/plain": [
       "array([9, 5, 1, ..., 5, 8, 0], dtype=int32)"
      ]
     },
     "execution_count": 585,
     "metadata": {},
     "output_type": "execute_result"
    }
   ],
   "source": [
    "# predict on testset\n",
    "kmeans_model.predict(X_test)"
   ]
  }
 ],
 "metadata": {
  "kernelspec": {
   "display_name": "Python 3",
   "language": "python",
   "name": "python3"
  },
  "language_info": {
   "codemirror_mode": {
    "name": "ipython",
    "version": 3
   },
   "file_extension": ".py",
   "mimetype": "text/x-python",
   "name": "python",
   "nbconvert_exporter": "python",
   "pygments_lexer": "ipython3",
   "version": "3.7.3"
  }
 },
 "nbformat": 4,
 "nbformat_minor": 2
}
